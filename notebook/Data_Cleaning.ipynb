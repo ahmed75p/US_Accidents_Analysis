{
 "cells": [
  {
   "cell_type": "code",
   "execution_count": 1,
   "id": "81c4b965",
   "metadata": {},
   "outputs": [],
   "source": [
    "import pandas as pd\n",
    "import numpy as np\n",
    "import seaborn as sns\n",
    "import matplotlib.pyplot as plt"
   ]
  },
  {
   "cell_type": "code",
   "execution_count": 2,
   "id": "1afe00f2",
   "metadata": {},
   "outputs": [],
   "source": [
    "df = pd.read_csv(\"D:/data/US_Accidents2.csv\")"
   ]
  },
  {
   "cell_type": "code",
   "execution_count": 3,
   "id": "49ef752f",
   "metadata": {},
   "outputs": [
    {
     "name": "stdout",
     "output_type": "stream",
     "text": [
      "   Unnamed: 0   ID   Source  Severity           Start_Time  \\\n",
      "0           0  A-1  Source2         3  2016-02-08 05:46:00   \n",
      "1           1  A-2  Source2         2  2016-02-08 06:07:59   \n",
      "2           2  A-3  Source2         2  2016-02-08 06:49:27   \n",
      "3           3  A-4  Source2         3  2016-02-08 07:23:34   \n",
      "4           4  A-5  Source2         2  2016-02-08 07:39:07   \n",
      "\n",
      "              End_Time  Start_Lat  Start_Lng  End_Lat  End_Lng  ...  \\\n",
      "0  2016-02-08 11:00:00  39.865147 -84.058723      NaN      NaN  ...   \n",
      "1  2016-02-08 06:37:59  39.928059 -82.831184      NaN      NaN  ...   \n",
      "2  2016-02-08 07:19:27  39.063148 -84.032608      NaN      NaN  ...   \n",
      "3  2016-02-08 07:53:34  39.747753 -84.205582      NaN      NaN  ...   \n",
      "4  2016-02-08 08:09:07  39.627781 -84.188354      NaN      NaN  ...   \n",
      "\n",
      "   Roundabout Station   Stop Traffic_Calming Traffic_Signal Turning_Loop  \\\n",
      "0       False   False  False           False          False        False   \n",
      "1       False   False  False           False          False        False   \n",
      "2       False   False  False           False           True        False   \n",
      "3       False   False  False           False          False        False   \n",
      "4       False   False  False           False           True        False   \n",
      "\n",
      "  Sunrise_Sunset Civil_Twilight Nautical_Twilight Astronomical_Twilight  \n",
      "0          Night          Night             Night                 Night  \n",
      "1          Night          Night             Night                   Day  \n",
      "2          Night          Night               Day                   Day  \n",
      "3          Night            Day               Day                   Day  \n",
      "4            Day            Day               Day                   Day  \n",
      "\n",
      "[5 rows x 47 columns]\n",
      "<class 'pandas.core.frame.DataFrame'>\n",
      "RangeIndex: 400000 entries, 0 to 399999\n",
      "Data columns (total 47 columns):\n",
      " #   Column                 Non-Null Count   Dtype  \n",
      "---  ------                 --------------   -----  \n",
      " 0   Unnamed: 0             400000 non-null  int64  \n",
      " 1   ID                     400000 non-null  object \n",
      " 2   Source                 400000 non-null  object \n",
      " 3   Severity               400000 non-null  int64  \n",
      " 4   Start_Time             400000 non-null  object \n",
      " 5   End_Time               400000 non-null  object \n",
      " 6   Start_Lat              400000 non-null  float64\n",
      " 7   Start_Lng              400000 non-null  float64\n",
      " 8   End_Lat                0 non-null       float64\n",
      " 9   End_Lng                0 non-null       float64\n",
      " 10  Distance(mi)           400000 non-null  float64\n",
      " 11  Description            400000 non-null  object \n",
      " 12  Street                 400000 non-null  object \n",
      " 13  City                   399981 non-null  object \n",
      " 14  County                 400000 non-null  object \n",
      " 15  State                  400000 non-null  object \n",
      " 16  Zipcode                399957 non-null  object \n",
      " 17  Country                400000 non-null  object \n",
      " 18  Timezone               399957 non-null  object \n",
      " 19  Airport_Code           399956 non-null  object \n",
      " 20  Weather_Timestamp      396791 non-null  object \n",
      " 21  Temperature(F)         394085 non-null  float64\n",
      " 22  Wind_Chill(F)          59095 non-null   float64\n",
      " 23  Humidity(%)            393491 non-null  float64\n",
      " 24  Pressure(in)           395353 non-null  float64\n",
      " 25  Visibility(mi)         391221 non-null  float64\n",
      " 26  Wind_Direction         396770 non-null  object \n",
      " 27  Wind_Speed(mph)        325829 non-null  float64\n",
      " 28  Precipitation(in)      42045 non-null   float64\n",
      " 29  Weather_Condition      391792 non-null  object \n",
      " 30  Amenity                400000 non-null  bool   \n",
      " 31  Bump                   400000 non-null  bool   \n",
      " 32  Crossing               400000 non-null  bool   \n",
      " 33  Give_Way               400000 non-null  bool   \n",
      " 34  Junction               400000 non-null  bool   \n",
      " 35  No_Exit                400000 non-null  bool   \n",
      " 36  Railway                400000 non-null  bool   \n",
      " 37  Roundabout             400000 non-null  bool   \n",
      " 38  Station                400000 non-null  bool   \n",
      " 39  Stop                   400000 non-null  bool   \n",
      " 40  Traffic_Calming        400000 non-null  bool   \n",
      " 41  Traffic_Signal         400000 non-null  bool   \n",
      " 42  Turning_Loop           400000 non-null  bool   \n",
      " 43  Sunrise_Sunset         399981 non-null  object \n",
      " 44  Civil_Twilight         399981 non-null  object \n",
      " 45  Nautical_Twilight      399981 non-null  object \n",
      " 46  Astronomical_Twilight  399981 non-null  object \n",
      "dtypes: bool(13), float64(12), int64(2), object(20)\n",
      "memory usage: 108.7+ MB\n",
      "None\n",
      "          Unnamed: 0       Severity      Start_Lat      Start_Lng  End_Lat  \\\n",
      "count  400000.000000  400000.000000  400000.000000  400000.000000      0.0   \n",
      "mean   199999.500000       2.367725      35.968671     -97.772576      NaN   \n",
      "std    115470.198175       0.484870       5.009050      18.347604      NaN   \n",
      "min         0.000000       1.000000      25.433098    -123.813927      NaN   \n",
      "25%     99999.750000       2.000000      32.830654    -118.134361      NaN   \n",
      "50%    199999.500000       2.000000      34.299267     -95.563095      NaN   \n",
      "75%    299999.250000       3.000000      40.124294     -81.637751      NaN   \n",
      "max    399999.000000       4.000000      48.199970     -70.571518      NaN   \n",
      "\n",
      "       End_Lng   Distance(mi)  Temperature(F)  Wind_Chill(F)    Humidity(%)  \\\n",
      "count      0.0  400000.000000   394085.000000   59095.000000  393491.000000   \n",
      "mean       NaN       0.055014       63.099615      29.591385      64.981191   \n",
      "std        NaN       0.713742       17.483801      15.295682      21.401962   \n",
      "min        NaN       0.000000      -77.800000     -29.300000       4.000000   \n",
      "25%        NaN       0.000000       53.100000      21.200000      50.000000   \n",
      "50%        NaN       0.010000       64.900000      30.400000      66.000000   \n",
      "75%        NaN       0.010000       75.900000      37.700000      83.000000   \n",
      "max        NaN      84.410000      161.600000     111.000000     100.000000   \n",
      "\n",
      "        Pressure(in)  Visibility(mi)  Wind_Speed(mph)  Precipitation(in)  \n",
      "count  395353.000000   391221.000000    325829.000000       42045.000000  \n",
      "mean       30.022115        9.197097         8.798980           0.062951  \n",
      "std         0.249542        2.197655         5.598683           0.531045  \n",
      "min         0.120000        0.000000         0.000000           0.000000  \n",
      "25%        29.920000       10.000000         5.800000           0.000000  \n",
      "50%        30.020000       10.000000         8.100000           0.010000  \n",
      "75%        30.130000       10.000000        11.500000           0.030000  \n",
      "max        33.040000      111.000000       822.800000          10.140000  \n",
      "(400000, 47)\n"
     ]
    }
   ],
   "source": [
    "# data inspection\n",
    "print(df.head())\n",
    "print(df.info())\n",
    "print(df.describe())\n",
    "print(df.shape)"
   ]
  },
  {
   "cell_type": "code",
   "execution_count": 4,
   "id": "e9983797",
   "metadata": {},
   "outputs": [],
   "source": [
    "# Modify column names\n",
    "df.columns = df.columns.str.strip().str.lower().str.replace(' ' , '_' )"
   ]
  },
  {
   "cell_type": "code",
   "execution_count": 5,
   "id": "707f2c73",
   "metadata": {},
   "outputs": [
    {
     "name": "stdout",
     "output_type": "stream",
     "text": [
      "unnamed:_0                    0\n",
      "id                            0\n",
      "source                        0\n",
      "severity                      0\n",
      "start_time                    0\n",
      "end_time                      0\n",
      "start_lat                     0\n",
      "start_lng                     0\n",
      "end_lat                  400000\n",
      "end_lng                  400000\n",
      "distance(mi)                  0\n",
      "description                   0\n",
      "street                        0\n",
      "city                         19\n",
      "county                        0\n",
      "state                         0\n",
      "zipcode                      43\n",
      "country                       0\n",
      "timezone                     43\n",
      "airport_code                 44\n",
      "weather_timestamp          3209\n",
      "temperature(f)             5915\n",
      "wind_chill(f)            340905\n",
      "humidity(%)                6509\n",
      "pressure(in)               4647\n",
      "visibility(mi)             8779\n",
      "wind_direction             3230\n",
      "wind_speed(mph)           74171\n",
      "precipitation(in)        357955\n",
      "weather_condition          8208\n",
      "amenity                       0\n",
      "bump                          0\n",
      "crossing                      0\n",
      "give_way                      0\n",
      "junction                      0\n",
      "no_exit                       0\n",
      "railway                       0\n",
      "roundabout                    0\n",
      "station                       0\n",
      "stop                          0\n",
      "traffic_calming               0\n",
      "traffic_signal                0\n",
      "turning_loop                  0\n",
      "sunrise_sunset               19\n",
      "civil_twilight               19\n",
      "nautical_twilight            19\n",
      "astronomical_twilight        19\n",
      "dtype: int64\n"
     ]
    }
   ],
   "source": [
    "# Detect columns containing missig values\n",
    "print(df.isnull().sum())"
   ]
  },
  {
   "cell_type": "code",
   "execution_count": 6,
   "id": "e204c48c",
   "metadata": {},
   "outputs": [
    {
     "name": "stdout",
     "output_type": "stream",
     "text": [
      "id                       0\n",
      "source                   0\n",
      "severity                 0\n",
      "start_time               0\n",
      "end_time                 0\n",
      "distance(mi)             0\n",
      "description              0\n",
      "street                   0\n",
      "city                     0\n",
      "county                   0\n",
      "state                    0\n",
      "zipcode                  0\n",
      "country                  0\n",
      "timezone                 0\n",
      "airport_code             0\n",
      "weather_timestamp        0\n",
      "temperature(f)           0\n",
      "wind_chill(f)            0\n",
      "humidity(%)              0\n",
      "pressure(in)             0\n",
      "visibility(mi)           0\n",
      "wind_direction           0\n",
      "wind_speed(mph)          0\n",
      "weather_condition        0\n",
      "amenity                  0\n",
      "bump                     0\n",
      "crossing                 0\n",
      "give_way                 0\n",
      "junction                 0\n",
      "no_exit                  0\n",
      "railway                  0\n",
      "roundabout               0\n",
      "station                  0\n",
      "stop                     0\n",
      "traffic_calming          0\n",
      "traffic_signal           0\n",
      "turning_loop             0\n",
      "sunrise_sunset           0\n",
      "civil_twilight           0\n",
      "nautical_twilight        0\n",
      "astronomical_twilight    0\n",
      "dtype: int64\n"
     ]
    }
   ],
   "source": [
    "# Dealing with missing values\n",
    "df.drop(['end_lat' , 'end_lng' , 'precipitation(in)' , 'start_lat' , 'start_lng' , 'unnamed:_0'] , axis=1 , inplace=True)\n",
    "\n",
    "columns_to_impute = [\n",
    "    'wind_speed(mph)',\n",
    "    'distance(mi)', \n",
    "    'temperature(f)', \n",
    "    'wind_chill(f)', \n",
    "    'humidity(%)', \n",
    "    'pressure(in)', \n",
    "    'visibility(mi)'\n",
    "]\n",
    "\n",
    "column_means = df[columns_to_impute].mean()\n",
    "df[columns_to_impute] = df[columns_to_impute].fillna(column_means)\n",
    "df.dropna(inplace=True)\n",
    "print(df.isnull().sum())"
   ]
  },
  {
   "cell_type": "code",
   "execution_count": 7,
   "id": "fff2f76b",
   "metadata": {},
   "outputs": [
    {
     "name": "stdout",
     "output_type": "stream",
     "text": [
      "(391753, 41)\n"
     ]
    }
   ],
   "source": [
    "#Dealing with duplicate data\n",
    "df.drop_duplicates(inplace=True)\n",
    "print(df.shape)"
   ]
  },
  {
   "cell_type": "code",
   "execution_count": 8,
   "id": "a64337e6",
   "metadata": {},
   "outputs": [],
   "source": [
    "# Data Type Formatting\n",
    "\n",
    "df['start_time'] = pd.to_datetime(df['start_time'])\n",
    "df['end_time'] = pd.to_datetime(df['end_time'])\n",
    "df['weather_timestamp'] = pd.to_datetime(df['weather_timestamp'])\n",
    "df['s_date'] = df['start_time'].dt.date\n",
    "df['s_time'] = df['start_time'].dt.time\n",
    "\n",
    "df['e_date'] = df['end_time'].dt.date\n",
    "df['e_time'] = df['end_time'].dt.time\n",
    "\n",
    "df['weather_time'] = df['weather_timestamp'].dt.time\n",
    "\n",
    "df.drop(columns=['start_time', 'end_time', 'weather_timestamp'], inplace=True)\n"
   ]
  },
  {
   "cell_type": "code",
   "execution_count": 16,
   "id": "e685822b",
   "metadata": {},
   "outputs": [
    {
     "data": {
      "image/png": "[encoded data removed]",
      "text/plain": [
       "<Figure size 640x480 with 1 Axes>"
      ]
     },
     "metadata": {},
     "output_type": "display_data"
    }
   ],
   "source": [
    "sns.boxenplot(y=df[\"temperature(f)\"])\n",
    "plt.title(\"temperature\")\n",
    "plt.show()"
   ]
  },
  {
   "cell_type": "code",
   "execution_count": 15,
   "id": "ca662316",
   "metadata": {},
   "outputs": [
    {
     "data": {
      "image/png": "[encoded data removed]",
      "text/plain": [
       "<Figure size 640x480 with 1 Axes>"
      ]
     },
     "metadata": {},
     "output_type": "display_data"
    }
   ],
   "source": [
    "sns.countplot(x=\"state\", data=df)\n",
    "plt.title(\"Number of Accidents per State\")\n",
    "plt.show()\n"
   ]
  },
  {
   "cell_type": "code",
   "execution_count": null,
   "id": "cd8ba985",
   "metadata": {},
   "outputs": [],
   "source": [
    "df.to_csv(\"D:/data/US_Accidents_cleaned.csv\")"
   ]
  },
  {
   "cell_type": "code",
   "execution_count": null,
   "id": "532335f0",
   "metadata": {},
   "outputs": [],
   "source": []
  },
  {
   "cell_type": "code",
   "execution_count": null,
   "id": "2ebc5d1c",
   "metadata": {},
   "outputs": [],
   "source": []
  }
 ],
 "metadata": {
  "kernelspec": {
   "display_name": "Python 3",
   "language": "python",
   "name": "python3"
  },
  "language_info": {
   "codemirror_mode": {
    "name": "ipython",
    "version": 3
   },
   "file_extension": ".py",
   "mimetype": "text/x-python",
   "name": "python",
   "nbconvert_exporter": "python",
   "pygments_lexer": "ipython3",
   "version": "3.13.3"
  }
 },
 "nbformat": 4,
 "nbformat_minor": 5
}
